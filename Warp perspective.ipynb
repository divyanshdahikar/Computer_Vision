{
 "cells": [
  {
   "cell_type": "code",
   "execution_count": 1,
   "id": "d3a9db62-c33a-433b-b985-1c4e3ddc7d06",
   "metadata": {},
   "outputs": [],
   "source": [
    "import cv2\n",
    "import numpy as np"
   ]
  },
  {
   "cell_type": "code",
   "execution_count": 2,
   "id": "3ee70e36-52a9-43c5-84b6-0e99c5aa1543",
   "metadata": {},
   "outputs": [],
   "source": [
    "img = cv2.imread(r\"C:\\Users\\divya\\OneDrive\\Pictures\\Screenshots\\Screenshot 2024-09-21 131638.png\")"
   ]
  },
  {
   "cell_type": "code",
   "execution_count": 3,
   "id": "79d86296-0b64-4463-b631-7fed927e5b2c",
   "metadata": {},
   "outputs": [],
   "source": [
    "width, height = 1917,889"
   ]
  },
  {
   "cell_type": "code",
   "execution_count": 4,
   "id": "08b6013f-4924-4bc6-804f-539fd2e6b2f8",
   "metadata": {},
   "outputs": [],
   "source": [
    "pts1 = np.float32([[254,10],[254,696],[749,15],[736,683]])\n",
    "pts2 = np.float32([[0,0],[0,height],[width,0],[width,height]])\n",
    "matrix = cv2.getPerspectiveTransform(pts1,pts2)\n",
    "OutputImg = cv2.warpPerspective(img,matrix,(width,height))\n",
    "cv2.namedWindow('warp image',cv2.WINDOW_NORMAL)\n",
    "cv2.resizeWindow('warp image',(400,400))\n",
    "cv2.imshow('warp image', OutputImg)\n",
    "cv2.waitKey(0)\n",
    "cv2.destroyAllWindows()"
   ]
  },
  {
   "cell_type": "code",
   "execution_count": null,
   "id": "8543712e-357c-468b-b1e7-4b3abded1dc3",
   "metadata": {},
   "outputs": [],
   "source": []
  }
 ],
 "metadata": {
  "kernelspec": {
   "display_name": "Python 3 (ipykernel)",
   "language": "python",
   "name": "python3"
  },
  "language_info": {
   "codemirror_mode": {
    "name": "ipython",
    "version": 3
   },
   "file_extension": ".py",
   "mimetype": "text/x-python",
   "name": "python",
   "nbconvert_exporter": "python",
   "pygments_lexer": "ipython3",
   "version": "3.12.0"
  }
 },
 "nbformat": 4,
 "nbformat_minor": 5
}
