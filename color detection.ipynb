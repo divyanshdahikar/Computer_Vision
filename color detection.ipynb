{
 "cells": [
  {
   "cell_type": "code",
   "execution_count": 1,
   "id": "98cbdc30-944f-4d96-8cae-59ee60fb0d2a",
   "metadata": {},
   "outputs": [],
   "source": [
    "import numpy as np\n",
    "import cv2 "
   ]
  },
  {
   "cell_type": "code",
   "execution_count": 2,
   "id": "29ead09a-82ed-44dc-b831-8ba918144eb9",
   "metadata": {},
   "outputs": [],
   "source": [
    "path = r\"C:\\Users\\divya\\OneDrive\\Pictures\\Screenshots\\Screenshot 2025-06-18 201554.png\""
   ]
  },
  {
   "cell_type": "code",
   "execution_count": null,
   "id": "e41165ac-2e88-407b-b9df-8607cac58d7d",
   "metadata": {},
   "outputs": [],
   "source": []
  },
  {
   "cell_type": "code",
   "execution_count": 3,
   "id": "fec1b6c1-7c3f-402b-a968-a911606da6ae",
   "metadata": {
    "scrolled": true
   },
   "outputs": [
    {
     "name": "stdout",
     "output_type": "stream",
     "text": [
      "12 112 178 255 107 255\n"
     ]
    },
    {
     "ename": "error",
     "evalue": "OpenCV(4.11.0) D:\\a\\opencv-python\\opencv-python\\opencv\\modules\\highgui\\src\\window_w32.cpp:2564: error: (-27:Null pointer) NULL window: 'TrackBars' in function 'cvGetTrackbarPos'\n",
     "output_type": "error",
     "traceback": [
      "\u001b[1;31m---------------------------------------------------------------------------\u001b[0m",
      "\u001b[1;31merror\u001b[0m                                     Traceback (most recent call last)",
      "Cell \u001b[1;32mIn[3], line 14\u001b[0m\n\u001b[0;32m     12\u001b[0m img \u001b[38;5;241m=\u001b[39m cv2\u001b[38;5;241m.\u001b[39mimread(path)\n\u001b[0;32m     13\u001b[0m imgHSV \u001b[38;5;241m=\u001b[39m cv2\u001b[38;5;241m.\u001b[39mcvtColor(img, cv2\u001b[38;5;241m.\u001b[39mCOLOR_BGR2HSV)\n\u001b[1;32m---> 14\u001b[0m h_min \u001b[38;5;241m=\u001b[39m \u001b[43mcv2\u001b[49m\u001b[38;5;241;43m.\u001b[39;49m\u001b[43mgetTrackbarPos\u001b[49m\u001b[43m(\u001b[49m\u001b[38;5;124;43m'\u001b[39;49m\u001b[38;5;124;43mHue Min\u001b[39;49m\u001b[38;5;124;43m'\u001b[39;49m\u001b[43m,\u001b[49m\u001b[38;5;124;43m'\u001b[39;49m\u001b[38;5;124;43mTrackBars\u001b[39;49m\u001b[38;5;124;43m'\u001b[39;49m\u001b[43m)\u001b[49m\n\u001b[0;32m     15\u001b[0m h_max \u001b[38;5;241m=\u001b[39m cv2\u001b[38;5;241m.\u001b[39mgetTrackbarPos(\u001b[38;5;124m'\u001b[39m\u001b[38;5;124mHue Max\u001b[39m\u001b[38;5;124m'\u001b[39m,\u001b[38;5;124m'\u001b[39m\u001b[38;5;124mTrackBars\u001b[39m\u001b[38;5;124m'\u001b[39m)\n\u001b[0;32m     16\u001b[0m s_min \u001b[38;5;241m=\u001b[39m cv2\u001b[38;5;241m.\u001b[39mgetTrackbarPos(\u001b[38;5;124m'\u001b[39m\u001b[38;5;124mSat Min\u001b[39m\u001b[38;5;124m'\u001b[39m,\u001b[38;5;124m'\u001b[39m\u001b[38;5;124mTrackBars\u001b[39m\u001b[38;5;124m'\u001b[39m)\n",
      "\u001b[1;31merror\u001b[0m: OpenCV(4.11.0) D:\\a\\opencv-python\\opencv-python\\opencv\\modules\\highgui\\src\\window_w32.cpp:2564: error: (-27:Null pointer) NULL window: 'TrackBars' in function 'cvGetTrackbarPos'\n"
     ]
    }
   ],
   "source": [
    "def empty(a):\n",
    "    pass\n",
    "cv2.namedWindow('TrackBars',cv2.WINDOW_NORMAL)\n",
    "cv2.resizeWindow('TrackBars', 200, 200)\n",
    "cv2.createTrackbar('Hue Min','TrackBars', 12,179,empty)\n",
    "cv2.createTrackbar('Hue Max','TrackBars', 112,179,empty)\n",
    "cv2.createTrackbar('Sat Min','TrackBars', 178,255,empty)\n",
    "cv2.createTrackbar('Sat Max','TrackBars', 255,255,empty)\n",
    "cv2.createTrackbar('Val Min','TrackBars', 107,255,empty)\n",
    "cv2.createTrackbar('Val Max','TrackBars', 255,255,empty)\n",
    "while True:\n",
    "    img = cv2.imread(path)\n",
    "    imgHSV = cv2.cvtColor(img, cv2.COLOR_BGR2HSV)\n",
    "    h_min = cv2.getTrackbarPos('Hue Min','TrackBars')\n",
    "    h_max = cv2.getTrackbarPos('Hue Max','TrackBars')\n",
    "    s_min = cv2.getTrackbarPos('Sat Min','TrackBars')\n",
    "    s_max = cv2.getTrackbarPos('Sat Max','TrackBars')\n",
    "    v_min = cv2.getTrackbarPos('Val Min','TrackBars')\n",
    "    v_max = cv2.getTrackbarPos('Val Max','TrackBars')\n",
    "    print(h_min,h_max,s_min,s_max,v_min,v_max)\n",
    "    \n",
    "    lower = np.array([h_min,s_min,v_min])\n",
    "    upper = np.array([h_max,s_max,v_max])\n",
    "    \n",
    "    cv2.namedWindow('HSV Img',cv2.WINDOW_NORMAL)\n",
    "    cv2.resizeWindow('HSV Img', 200, 200)\n",
    "    cv2.namedWindow('Mask Img',cv2.WINDOW_NORMAL)\n",
    "    cv2.resizeWindow('Mask Img', 200, 200)\n",
    "    cv2.namedWindow('original Img', cv2.WINDOW_NORMAL)\n",
    "    cv2.resizeWindow('original Img', 200,200)\n",
    "    \n",
    "    mask = cv2.inRange(imgHSV,lower,upper)\n",
    "    imgResult = cv2.bitwise_and(img,img,mask=mask)\n",
    "    \n",
    "    cv2.namedWindow('Result',cv2.WINDOW_NORMAL)\n",
    "    cv2.resizeWindow('Result', 200, 200)\n",
    "    \n",
    "    cv2.imshow('original Img', img)\n",
    "    cv2.imshow('HSV Img', imgHSV)\n",
    "    cv2.imshow('Mask Img', mask)\n",
    "    cv2.imshow('Result', imgResult)\n",
    "    cv2.waitKey(1)\n",
    "    cv2.destroyAllWindows()"
   ]
  },
  {
   "cell_type": "code",
   "execution_count": null,
   "id": "229ceba4-ba0c-400e-817e-bddc2a66d413",
   "metadata": {},
   "outputs": [],
   "source": []
  },
  {
   "cell_type": "code",
   "execution_count": null,
   "id": "ffad441c-da21-41ac-b263-27b794f1e2b8",
   "metadata": {},
   "outputs": [],
   "source": []
  },
  {
   "cell_type": "code",
   "execution_count": null,
   "id": "3c46d502-7731-461d-9c06-407be44d6705",
   "metadata": {},
   "outputs": [],
   "source": []
  }
 ],
 "metadata": {
  "kernelspec": {
   "display_name": "Python 3 (ipykernel)",
   "language": "python",
   "name": "python3"
  },
  "language_info": {
   "codemirror_mode": {
    "name": "ipython",
    "version": 3
   },
   "file_extension": ".py",
   "mimetype": "text/x-python",
   "name": "python",
   "nbconvert_exporter": "python",
   "pygments_lexer": "ipython3",
   "version": "3.12.0"
  }
 },
 "nbformat": 4,
 "nbformat_minor": 5
}
