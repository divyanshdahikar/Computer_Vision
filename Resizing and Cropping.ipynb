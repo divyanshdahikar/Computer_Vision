{
 "cells": [
  {
   "cell_type": "code",
   "execution_count": 1,
   "id": "77ecea50-ec13-4fbf-993e-1f7426e6a317",
   "metadata": {},
   "outputs": [],
   "source": [
    "import cv2"
   ]
  },
  {
   "cell_type": "code",
   "execution_count": 2,
   "id": "6fd7dd92-db3e-4c16-b70e-bdff4d9b19b2",
   "metadata": {},
   "outputs": [],
   "source": [
    "img = cv2.imread(r\"C:\\Users\\divya\\OneDrive\\Pictures\\Screenshots\\Screenshot 2025-06-18 201416.png\")"
   ]
  },
  {
   "cell_type": "code",
   "execution_count": 3,
   "id": "945157f2-9ea1-4c36-9663-39d21d512f99",
   "metadata": {},
   "outputs": [
    {
     "data": {
      "text/plain": [
       "(673, 763, 3)"
      ]
     },
     "execution_count": 3,
     "metadata": {},
     "output_type": "execute_result"
    }
   ],
   "source": [
    "img.shape"
   ]
  },
  {
   "cell_type": "code",
   "execution_count": 4,
   "id": "7b8be625-a664-4f58-8dd9-aa0442dffd00",
   "metadata": {},
   "outputs": [],
   "source": [
    "resized_image = cv2.resize(img,(500, 400))\n",
    "cropped_img = img[0:673,0:763]\n",
    "cv2.imshow('org img', img)\n",
    "cv2.imshow('Resized Image', resized_image)\n",
    "cv2.imshow(\"Cropped Image\", cropped_img)\n",
    "cv2.waitKey(0)\n",
    "cv2.destroyAllWindows()"
   ]
  },
  {
   "cell_type": "code",
   "execution_count": null,
   "id": "44177353-b964-4f44-bb6f-1dc324dedac6",
   "metadata": {},
   "outputs": [],
   "source": []
  }
 ],
 "metadata": {
  "kernelspec": {
   "display_name": "Python 3 (ipykernel)",
   "language": "python",
   "name": "python3"
  },
  "language_info": {
   "codemirror_mode": {
    "name": "ipython",
    "version": 3
   },
   "file_extension": ".py",
   "mimetype": "text/x-python",
   "name": "python",
   "nbconvert_exporter": "python",
   "pygments_lexer": "ipython3",
   "version": "3.12.0"
  }
 },
 "nbformat": 4,
 "nbformat_minor": 5
}
