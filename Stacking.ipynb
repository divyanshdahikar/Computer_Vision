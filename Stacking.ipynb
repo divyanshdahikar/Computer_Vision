{
 "cells": [
  {
   "cell_type": "code",
   "execution_count": 1,
   "id": "f1b37f8b-43f3-45cf-bfe9-01ef2a0a962b",
   "metadata": {},
   "outputs": [],
   "source": [
    "import numpy as np\n",
    "import cv2"
   ]
  },
  {
   "cell_type": "code",
   "execution_count": 2,
   "id": "1e0cc980-ddb2-4ec6-910c-54b7b548d5a5",
   "metadata": {},
   "outputs": [],
   "source": [
    "img1 = cv2.imread(r\"C:\\Users\\divya\\OneDrive\\Pictures\\Screenshots\\Screenshot 2025-02-13 142625.png\")\n",
    "img2 = cv2.imread(r\"C:\\Users\\divya\\OneDrive\\Pictures\\Screenshots\\Screenshot 2025-02-13 142611.png\")"
   ]
  },
  {
   "cell_type": "code",
   "execution_count": 4,
   "id": "f9ca6b16-dbb1-4039-9f80-6f1e9ccf6df7",
   "metadata": {},
   "outputs": [],
   "source": [
    "ImgHor = np.hstack((img1,img1))\n",
    "ImgVer = np.vstack((img2,img2))\n",
    "cv2.namedWindow('Image Horizontal',cv2.WINDOW_NORMAL)\n",
    "cv2.namedWindow('Image Vertical',cv2.WINDOW_NORMAL)\n",
    "cv2.imshow('Image Horizontal',ImgHor)\n",
    "cv2.imshow('Image Vertical',ImgVer)\n",
    "cv2.waitKey(0)\n",
    "cv2.destroyAllWindows()"
   ]
  },
  {
   "cell_type": "code",
   "execution_count": null,
   "id": "f7240730-412e-470f-b13d-f827edcb7f52",
   "metadata": {},
   "outputs": [],
   "source": []
  }
 ],
 "metadata": {
  "kernelspec": {
   "display_name": "Python 3 (ipykernel)",
   "language": "python",
   "name": "python3"
  },
  "language_info": {
   "codemirror_mode": {
    "name": "ipython",
    "version": 3
   },
   "file_extension": ".py",
   "mimetype": "text/x-python",
   "name": "python",
   "nbconvert_exporter": "python",
   "pygments_lexer": "ipython3",
   "version": "3.12.0"
  }
 },
 "nbformat": 4,
 "nbformat_minor": 5
}
